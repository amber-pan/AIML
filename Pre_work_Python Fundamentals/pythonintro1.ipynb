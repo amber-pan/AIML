{
 "cells": [
  {
   "cell_type": "markdown",
   "id": "ba5fa408-6343-4860-bb03-4c11a0d4dc7f",
   "metadata": {},
   "source": []
  },
  {
   "cell_type": "code",
   "execution_count": 18,
   "id": "ed16e5e1-e653-4922-a3e4-17f6571662ed",
   "metadata": {},
   "outputs": [],
   "source": [
    "x,y = 3,4"
   ]
  },
  {
   "cell_type": "code",
   "execution_count": 33,
   "id": "3e703008-f6cc-4b6c-a772-1951b89ef2d0",
   "metadata": {},
   "outputs": [
    {
     "data": {
      "text/plain": [
       "'adfs'"
      ]
     },
     "execution_count": 33,
     "metadata": {},
     "output_type": "execute_result"
    }
   ],
   "source": [
    "x =\"adfs\"\n",
    "x\n"
   ]
  },
  {
   "cell_type": "code",
   "execution_count": 37,
   "id": "13941c63-8f22-41e3-bc15-7c1a4711d7a9",
   "metadata": {},
   "outputs": [
    {
     "data": {
      "text/plain": [
       "str"
      ]
     },
     "execution_count": 37,
     "metadata": {},
     "output_type": "execute_result"
    }
   ],
   "source": [
    "type(x)"
   ]
  },
  {
   "cell_type": "code",
   "execution_count": 48,
   "id": "d73f2adc-846a-4701-ab45-10abe8545340",
   "metadata": {},
   "outputs": [
    {
     "data": {
      "text/plain": [
       "0"
      ]
     },
     "execution_count": 48,
     "metadata": {},
     "output_type": "execute_result"
    }
   ],
   "source": [
    "i"
   ]
  },
  {
   "cell_type": "code",
   "execution_count": 52,
   "id": "147d542a-9d84-424a-915c-14db1741426f",
   "metadata": {},
   "outputs": [],
   "source": [
    "a=5+9j"
   ]
  },
  {
   "cell_type": "code",
   "execution_count": 54,
   "id": "5ae7b34f-048a-4d4f-a013-2c8e22ee1659",
   "metadata": {},
   "outputs": [
    {
     "data": {
      "text/plain": [
       "(5+9j)"
      ]
     },
     "execution_count": 54,
     "metadata": {},
     "output_type": "execute_result"
    }
   ],
   "source": [
    "a"
   ]
  },
  {
   "cell_type": "code",
   "execution_count": 56,
   "id": "3a9c62f8-cd51-4846-af52-bcb32331d7a4",
   "metadata": {},
   "outputs": [
    {
     "data": {
      "text/plain": [
       "complex"
      ]
     },
     "execution_count": 56,
     "metadata": {},
     "output_type": "execute_result"
    }
   ],
   "source": [
    "type(a)"
   ]
  },
  {
   "cell_type": "code",
   "execution_count": 58,
   "id": "64f22c7a-234e-4839-a342-c9922fa1480d",
   "metadata": {},
   "outputs": [],
   "source": [
    "y = \"chevk\""
   ]
  },
  {
   "cell_type": "code",
   "execution_count": 60,
   "id": "66636e18-b64f-463e-aa67-753c993b9ca4",
   "metadata": {},
   "outputs": [
    {
     "data": {
      "text/plain": [
       "'adfs chevk'"
      ]
     },
     "execution_count": 60,
     "metadata": {},
     "output_type": "execute_result"
    }
   ],
   "source": [
    "x+\" \" +y"
   ]
  },
  {
   "cell_type": "code",
   "execution_count": 64,
   "id": "db77148c-4fa4-4f18-a51f-9d883f4cb935",
   "metadata": {},
   "outputs": [
    {
     "data": {
      "text/plain": [
       "'k'"
      ]
     },
     "execution_count": 64,
     "metadata": {},
     "output_type": "execute_result"
    }
   ],
   "source": [
    "y[4]\n"
   ]
  },
  {
   "cell_type": "code",
   "execution_count": 66,
   "id": "98ec584a-3fd6-4c59-944a-60687ecca283",
   "metadata": {},
   "outputs": [
    {
     "data": {
      "text/plain": [
       "'k'"
      ]
     },
     "execution_count": 66,
     "metadata": {},
     "output_type": "execute_result"
    }
   ],
   "source": [
    "y[-1]"
   ]
  },
  {
   "cell_type": "code",
   "execution_count": 68,
   "id": "0a8b4bab-7cbf-457f-a8c1-fee1a774f3f5",
   "metadata": {},
   "outputs": [
    {
     "name": "stdout",
     "output_type": "stream",
     "text": [
      "x= adfs\n"
     ]
    }
   ],
   "source": [
    "print(\"x=\",x)"
   ]
  },
  {
   "cell_type": "code",
   "execution_count": 51,
   "id": "80ba48ca-e152-4112-9e74-a24ca11c9e8e",
   "metadata": {},
   "outputs": [
    {
     "name": "stdout",
     "output_type": "stream",
     "text": [
      "4\n",
      "5\n",
      "6\n"
     ]
    }
   ],
   "source": [
    "i=3\n",
    "while i < 6:\n",
    "    i+=1\n",
    "    if i==3:\n",
    "\n",
    "        break\n",
    "        \n",
    "    else:\n",
    "        print(i)\n",
    "        \n",
    "    "
   ]
  },
  {
   "cell_type": "code",
   "execution_count": null,
   "id": "c9da63f0-69a7-49d5-841b-7eb99cf5ec70",
   "metadata": {},
   "outputs": [],
   "source": []
  },
  {
   "cell_type": "code",
   "execution_count": null,
   "id": "fa33a4a1-c2bd-44d8-b10a-fb0e0afb947e",
   "metadata": {},
   "outputs": [],
   "source": []
  },
  {
   "cell_type": "code",
   "execution_count": null,
   "id": "e269e1b7-57b9-45ae-a7d6-24e08eea78af",
   "metadata": {},
   "outputs": [],
   "source": []
  }
 ],
 "metadata": {
  "kernelspec": {
   "display_name": "Python [conda env:base] *",
   "language": "python",
   "name": "conda-base-py"
  },
  "language_info": {
   "codemirror_mode": {
    "name": "ipython",
    "version": 3
   },
   "file_extension": ".py",
   "mimetype": "text/x-python",
   "name": "python",
   "nbconvert_exporter": "python",
   "pygments_lexer": "ipython3",
   "version": "3.12.7"
  }
 },
 "nbformat": 4,
 "nbformat_minor": 5
}
